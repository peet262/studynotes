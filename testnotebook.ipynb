{
 "cells": [
  {
   "cell_type": "markdown",
   "id": "c8cbe0df-0dac-4780-981a-556024419f34",
   "metadata": {},
   "source": [
    "# Adding A Notebook in the Github Directory\n",
    "Going through one of the last steps in the fastai live coding lesson 2."
   ]
  },
  {
   "cell_type": "markdown",
   "id": "67cadc1b-dcc4-4d0f-93ce-4e2369261d39",
   "metadata": {},
   "source": [
    "## Questions\n",
    "1. I know how to upload files from the windows 11 directories, but so far don't know how to move files from one place to another in Linux. How is this done?"
   ]
  }
 ],
 "metadata": {
  "kernelspec": {
   "display_name": "Python 3 (ipykernel)",
   "language": "python",
   "name": "python3"
  },
  "language_info": {
   "codemirror_mode": {
    "name": "ipython",
    "version": 3
   },
   "file_extension": ".py",
   "mimetype": "text/x-python",
   "name": "python",
   "nbconvert_exporter": "python",
   "pygments_lexer": "ipython3",
   "version": "3.10.12"
  }
 },
 "nbformat": 4,
 "nbformat_minor": 5
}
